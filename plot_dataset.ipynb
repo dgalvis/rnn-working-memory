{
 "cells": [
  {
   "cell_type": "code",
   "execution_count": null,
   "id": "41a86d73-19c3-45f1-a682-3b237970211d",
   "metadata": {},
   "outputs": [],
   "source": [
    "from modules import params, dataset\n"
   ]
  },
  {
   "cell_type": "code",
   "execution_count": null,
   "id": "a922b9bb-c5b8-422f-b799-3cefd0b52e15",
   "metadata": {},
   "outputs": [],
   "source": [
    "kwargsP = {\n",
    "    \"max_set_size\": 4, \n",
    "    \"min_colours\":  2, \n",
    "    \"max_colours\":  3\n",
    "}\n",
    "\n",
    "config = params.get_parameters(**kwargsP)\n",
    "config = params.get_hyperparameters(config)\n",
    "print(config)\n",
    "\n"
   ]
  },
  {
   "cell_type": "code",
   "execution_count": null,
   "id": "d47530c3-33c9-4cff-8fea-cdbc10b031f2",
   "metadata": {},
   "outputs": [],
   "source": [
    "dataset.plot_dataset(config)"
   ]
  }
 ],
 "metadata": {
  "kernelspec": {
   "display_name": "Python 3 (ipykernel)",
   "language": "python",
   "name": "python3"
  },
  "language_info": {
   "codemirror_mode": {
    "name": "ipython",
    "version": 3
   },
   "file_extension": ".py",
   "mimetype": "text/x-python",
   "name": "python",
   "nbconvert_exporter": "python",
   "pygments_lexer": "ipython3",
   "version": "3.9.23"
  }
 },
 "nbformat": 4,
 "nbformat_minor": 5
}
