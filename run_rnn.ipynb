{
 "cells": [
  {
   "cell_type": "code",
   "execution_count": null,
   "id": "a288fbb3-f26e-4bd0-85e3-14681d07b32e",
   "metadata": {},
   "outputs": [],
   "source": [
    "# Run a single example of training the model\n",
    "from modules import utils, params, dataset\n",
    "\n",
    "# Single Example\n",
    "config = params.get_parameters(shift_level = 0.1, max_set_size = 4, max_colours = 3)\n",
    "config = params.get_hyperparameters(config)\n",
    "\n",
    "print(config)\n",
    "#dataset.plot_dataset(config)\n",
    "model, _ = utils.train_model(config,  verbose = True, file=\"model\")\n",
    "test = utils.test_model(config, model, verbose = True)"
   ]
  }
 ],
 "metadata": {
  "kernelspec": {
   "display_name": "Python 3 (ipykernel)",
   "language": "python",
   "name": "python3"
  },
  "language_info": {
   "codemirror_mode": {
    "name": "ipython",
    "version": 3
   },
   "file_extension": ".py",
   "mimetype": "text/x-python",
   "name": "python",
   "nbconvert_exporter": "python",
   "pygments_lexer": "ipython3",
   "version": "3.9.23"
  }
 },
 "nbformat": 4,
 "nbformat_minor": 5
}
