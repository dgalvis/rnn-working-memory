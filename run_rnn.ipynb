{
 "cells": [
  {
   "cell_type": "code",
   "execution_count": null,
   "id": "a288fbb3-f26e-4bd0-85e3-14681d07b32e",
   "metadata": {},
   "outputs": [
    {
     "name": "stdout",
     "output_type": "stream",
     "text": [
      "{'wheel_len': 31, 'seq_len': 15, 'max_set_size': 4, 'max_colours': 3, 'min_colours': 2, 'cue_time': 1, 'retro_cue_time': 8, 'kappa': 5, 'shift_level': 0.1, 'input_size': 128, 'hidden_size': 256, 'learning_rate': 0.001, 'num_layers': 1, 'noise_level': 0.0, 'num_batches': 2000, 'num_test_batches': 500, 'batch_size': 2000, 'check_num': 100, 'device': device(type='cpu')}\n",
      "Epoch [1/2000],  Accuracy: 0.0300, Loss: 0.1064\n",
      "Epoch [100/2000],  Accuracy: 0.0595, Loss: 0.0804\n"
     ]
    }
   ],
   "source": [
    "# Run a single example of training the model\n",
    "from modules import utils, params, dataset\n",
    "\n",
    "# Single Example\n",
    "config = params.get_parameters(shift_level = 0.1, max_set_size = 4, max_colours = 3)\n",
    "config = params.get_hyperparameters(config)\n",
    "\n",
    "print(config)\n",
    "#dataset.plot_dataset(config)\n",
    "model, _ = utils.train_model(config,  verbose = True, file=\"model\")\n",
    "test = utils.test_model(config, model, verbose = True)"
   ]
  }
 ],
 "metadata": {
  "kernelspec": {
   "display_name": "Python 3 (ipykernel)",
   "language": "python",
   "name": "python3"
  },
  "language_info": {
   "codemirror_mode": {
    "name": "ipython",
    "version": 3
   },
   "file_extension": ".py",
   "mimetype": "text/x-python",
   "name": "python",
   "nbconvert_exporter": "python",
   "pygments_lexer": "ipython3",
   "version": "3.9.23"
  }
 },
 "nbformat": 4,
 "nbformat_minor": 5
}
